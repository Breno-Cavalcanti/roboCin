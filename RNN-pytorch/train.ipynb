{
 "metadata": {
  "language_info": {
   "codemirror_mode": {
    "name": "ipython",
    "version": 3
   },
   "file_extension": ".py",
   "mimetype": "text/x-python",
   "name": "python",
   "nbconvert_exporter": "python",
   "pygments_lexer": "ipython3",
   "version": "3.8.3-final"
  },
  "orig_nbformat": 2,
  "kernelspec": {
   "name": "python3",
   "display_name": "Python 3",
   "language": "python"
  }
 },
 "nbformat": 4,
 "nbformat_minor": 2,
 "cells": [
  {
   "cell_type": "code",
   "execution_count": 1,
   "metadata": {},
   "outputs": [],
   "source": [
    "import torch\n",
    "from torch import nn\n",
    "from torch.autograd import Variable\n",
    "from sklearn.preprocessing import MinMaxScaler\n",
    "import numpy as np\n",
    "import pandas as pd\n",
    "from pickle import dump"
   ]
  },
  {
   "cell_type": "code",
   "execution_count": 2,
   "metadata": {},
   "outputs": [],
   "source": [
    "data = pd.read_csv('train_with_out_vanishing.csv')"
   ]
  },
  {
   "cell_type": "code",
   "execution_count": 3,
   "metadata": {},
   "outputs": [
    {
     "output_type": "execute_result",
     "data": {
      "text/plain": [
       "   Positions X\n",
       "0     -5216.84\n",
       "1     -5216.01\n",
       "2     -5213.73\n",
       "3     -5210.01\n",
       "4     -5204.82"
      ],
      "text/html": "<div>\n<style scoped>\n    .dataframe tbody tr th:only-of-type {\n        vertical-align: middle;\n    }\n\n    .dataframe tbody tr th {\n        vertical-align: top;\n    }\n\n    .dataframe thead th {\n        text-align: right;\n    }\n</style>\n<table border=\"1\" class=\"dataframe\">\n  <thead>\n    <tr style=\"text-align: right;\">\n      <th></th>\n      <th>Positions X</th>\n    </tr>\n  </thead>\n  <tbody>\n    <tr>\n      <th>0</th>\n      <td>-5216.84</td>\n    </tr>\n    <tr>\n      <th>1</th>\n      <td>-5216.01</td>\n    </tr>\n    <tr>\n      <th>2</th>\n      <td>-5213.73</td>\n    </tr>\n    <tr>\n      <th>3</th>\n      <td>-5210.01</td>\n    </tr>\n    <tr>\n      <th>4</th>\n      <td>-5204.82</td>\n    </tr>\n  </tbody>\n</table>\n</div>"
     },
     "metadata": {},
     "execution_count": 3
    }
   ],
   "source": [
    "data.head()"
   ]
  },
  {
   "cell_type": "code",
   "execution_count": 4,
   "metadata": {},
   "outputs": [
    {
     "output_type": "execute_result",
     "data": {
      "text/plain": [
       "(624, 1)"
      ]
     },
     "metadata": {},
     "execution_count": 4
    }
   ],
   "source": [
    "data.shape"
   ]
  },
  {
   "cell_type": "code",
   "execution_count": 5,
   "metadata": {},
   "outputs": [],
   "source": [
    "data.drop_duplicates(inplace= True)"
   ]
  },
  {
   "cell_type": "code",
   "execution_count": 6,
   "metadata": {},
   "outputs": [
    {
     "output_type": "execute_result",
     "data": {
      "text/plain": [
       "(624, 1)"
      ]
     },
     "metadata": {},
     "execution_count": 6
    }
   ],
   "source": [
    "data.shape"
   ]
  },
  {
   "cell_type": "code",
   "execution_count": 7,
   "metadata": {},
   "outputs": [],
   "source": [
    "scaler = MinMaxScaler(feature_range = (0,1)) # escalando os dados\n",
    "data_scaled = scaler.fit_transform(data)\n",
    "dump(scaler, open('scaler.pkl', 'wb')) # salvando o scaler."
   ]
  },
  {
   "cell_type": "code",
   "execution_count": 8,
   "metadata": {},
   "outputs": [],
   "source": [
    "last_positions = [] # lista que irá armazenar as últimas 10 posições.\n",
    "real_position = [] # lista que irá armazenar as posições reais.\n",
    "for i in range(10, 624):\n",
    "    last_positions.append(data_scaled[i-10:i, 0])\n",
    "    real_position.append(data_scaled[i, 0])"
   ]
  },
  {
   "cell_type": "code",
   "execution_count": 9,
   "metadata": {},
   "outputs": [],
   "source": [
    "last_positions, real_position = np.array(last_positions), np.array(real_position)"
   ]
  },
  {
   "cell_type": "code",
   "execution_count": 10,
   "metadata": {},
   "outputs": [],
   "source": [
    "last_positions = np.reshape(last_positions, (last_positions.shape[0], last_positions.shape[1], 1))"
   ]
  },
  {
   "cell_type": "code",
   "execution_count": 11,
   "metadata": {},
   "outputs": [],
   "source": [
    "last_positions = torch.from_numpy(last_positions).type(torch.Tensor)\n",
    "real_position = torch.from_numpy(real_position).type(torch.Tensor)"
   ]
  },
  {
   "cell_type": "code",
   "execution_count": 12,
   "metadata": {},
   "outputs": [],
   "source": [
    "input_dim = 1\n",
    "hidden_dim = 100\n",
    "num_layers = 1\n",
    "output_dim = 1\n",
    "num_epochs = 50"
   ]
  },
  {
   "cell_type": "code",
   "execution_count": 19,
   "metadata": {},
   "outputs": [],
   "source": [
    "class LSTM(nn.Module):\n",
    "    def __init__(self, input_dim, hidden_dim, num_layers, output_dim):\n",
    "        super(LSTM, self).__init__()\n",
    "        self.hidden_dim = hidden_dim\n",
    "        self.num_layers = num_layers\n",
    "        \n",
    "        self.gru = nn.LSTM(input_dim, hidden_dim, num_layers, batch_first=True)\n",
    "        self.fc = nn.Linear(hidden_dim, output_dim)\n",
    "    \n",
    "    def forward(self, x):\n",
    "        h0 = torch.zeros(self.num_layers, x.size(0), self.hidden_dim).requires_grad_()\n",
    "        c0 = torch.zeros(self.num_layers, x.size(0), self.hidden_dim).requires_grad_()\n",
    "        out, (hn, cn) = self.gru(x, (h0.detach(), c0.detach()))\n",
    "        out = self.fc(out[:, -1, :]) \n",
    "        return out"
   ]
  },
  {
   "cell_type": "code",
   "execution_count": 21,
   "metadata": {},
   "outputs": [],
   "source": [
    "model = LSTM(input_dim=input_dim, hidden_dim=hidden_dim, output_dim=output_dim, num_layers=num_layers)\n",
    "criterion = torch.nn.MSELoss(reduction='mean')\n",
    "optimiser = torch.optim.Adam(model.parameters(), lr=0.01)"
   ]
  },
  {
   "cell_type": "code",
   "execution_count": 22,
   "metadata": {},
   "outputs": [
    {
     "output_type": "stream",
     "name": "stdout",
     "text": [
      "Epoch  0 MSE:  0.287265807390213\n",
      "Epoch  1 MSE:  0.13181503117084503\n",
      "Epoch  2 MSE:  0.1187618300318718\n",
      "Epoch  3 MSE:  0.08363600820302963\n",
      "Epoch  4 MSE:  0.09280961751937866\n",
      "Epoch  5 MSE:  0.09749489277601242\n",
      "Epoch  6 MSE:  0.0948040783405304\n",
      "Epoch  7 MSE:  0.08882716298103333\n",
      "Epoch  8 MSE:  0.08381333202123642\n",
      "Epoch  9 MSE:  0.08323613554239273\n",
      "Epoch  10 MSE:  0.08674807846546173\n",
      "Epoch  11 MSE:  0.08826617896556854\n",
      "Epoch  12 MSE:  0.08588133752346039\n",
      "Epoch  13 MSE:  0.08328495919704437\n",
      "Epoch  14 MSE:  0.08266036212444305\n",
      "Epoch  15 MSE:  0.08350104093551636\n",
      "Epoch  16 MSE:  0.08455619215965271\n",
      "Epoch  17 MSE:  0.0849846825003624\n",
      "Epoch  18 MSE:  0.0845947340130806\n",
      "Epoch  19 MSE:  0.08369915187358856\n",
      "Epoch  20 MSE:  0.08284489810466766\n",
      "Epoch  21 MSE:  0.08249896764755249\n",
      "Epoch  22 MSE:  0.08276603370904922\n",
      "Epoch  23 MSE:  0.083304263651371\n",
      "Epoch  24 MSE:  0.08359523117542267\n",
      "Epoch  25 MSE:  0.0833965614438057\n",
      "Epoch  26 MSE:  0.08290993422269821\n",
      "Epoch  27 MSE:  0.08251533657312393\n",
      "Epoch  28 MSE:  0.08242878317832947\n",
      "Epoch  29 MSE:  0.08260074257850647\n",
      "Epoch  30 MSE:  0.08283233642578125\n",
      "Epoch  31 MSE:  0.08294045925140381\n",
      "Epoch  32 MSE:  0.08285946398973465\n",
      "Epoch  33 MSE:  0.08265306800603867\n",
      "Epoch  34 MSE:  0.08245553076267242\n",
      "Epoch  35 MSE:  0.08238058537244797\n",
      "Epoch  36 MSE:  0.08244732022285461\n",
      "Epoch  37 MSE:  0.08257202059030533\n",
      "Epoch  38 MSE:  0.08263884484767914\n",
      "Epoch  39 MSE:  0.08259420096874237\n",
      "Epoch  40 MSE:  0.08248112350702286\n",
      "Epoch  41 MSE:  0.08238796889781952\n",
      "Epoch  42 MSE:  0.08237086981534958\n",
      "Epoch  43 MSE:  0.08241927623748779\n",
      "Epoch  44 MSE:  0.08247886598110199\n",
      "Epoch  45 MSE:  0.08249909430742264\n",
      "Epoch  46 MSE:  0.08246714621782303\n",
      "Epoch  47 MSE:  0.08241016417741776\n",
      "Epoch  48 MSE:  0.08236989378929138\n",
      "Epoch  49 MSE:  0.08237025141716003\n",
      "Training time: 3.094672918319702\n"
     ]
    }
   ],
   "source": [
    "import time\n",
    "hist = np.zeros(num_epochs)\n",
    "start_time = time.time()\n",
    "lstm = []\n",
    "for t in range(num_epochs):\n",
    "    y_train_pred = model(last_positions)    \n",
    "    loss = criterion(y_train_pred, real_position)\n",
    "    print(\"Epoch \", t, \"MSE: \", loss.item())\n",
    "    hist[t] = loss.item()    \n",
    "    optimiser.zero_grad()\n",
    "    loss.backward()\n",
    "    optimiser.step()\n",
    "    \n",
    "training_time = time.time() - start_time\n",
    "print(\"Training time: {}\".format(training_time))"
   ]
  },
  {
   "cell_type": "code",
   "execution_count": 24,
   "metadata": {},
   "outputs": [],
   "source": [
    "data_test = pd.read_csv('test_with_out_vanishing .csv')"
   ]
  },
  {
   "cell_type": "code",
   "execution_count": 25,
   "metadata": {},
   "outputs": [
    {
     "output_type": "execute_result",
     "data": {
      "text/plain": [
       "   Positions X\n",
       "0      4680.74\n",
       "1      4696.74\n",
       "2      4712.74\n",
       "3      4728.74\n",
       "4      4744.74"
      ],
      "text/html": "<div>\n<style scoped>\n    .dataframe tbody tr th:only-of-type {\n        vertical-align: middle;\n    }\n\n    .dataframe tbody tr th {\n        vertical-align: top;\n    }\n\n    .dataframe thead th {\n        text-align: right;\n    }\n</style>\n<table border=\"1\" class=\"dataframe\">\n  <thead>\n    <tr style=\"text-align: right;\">\n      <th></th>\n      <th>Positions X</th>\n    </tr>\n  </thead>\n  <tbody>\n    <tr>\n      <th>0</th>\n      <td>4680.74</td>\n    </tr>\n    <tr>\n      <th>1</th>\n      <td>4696.74</td>\n    </tr>\n    <tr>\n      <th>2</th>\n      <td>4712.74</td>\n    </tr>\n    <tr>\n      <th>3</th>\n      <td>4728.74</td>\n    </tr>\n    <tr>\n      <th>4</th>\n      <td>4744.74</td>\n    </tr>\n  </tbody>\n</table>\n</div>"
     },
     "metadata": {},
     "execution_count": 25
    }
   ],
   "source": [
    "data_test.head()"
   ]
  },
  {
   "cell_type": "code",
   "execution_count": 26,
   "metadata": {},
   "outputs": [
    {
     "output_type": "execute_result",
     "data": {
      "text/plain": [
       "(31, 1)"
      ]
     },
     "metadata": {},
     "execution_count": 26
    }
   ],
   "source": [
    "data_test.shape"
   ]
  },
  {
   "cell_type": "code",
   "execution_count": 27,
   "metadata": {},
   "outputs": [],
   "source": [
    "data_completed = pd.concat((data, data_test), axis = 0)"
   ]
  },
  {
   "cell_type": "code",
   "execution_count": 28,
   "metadata": {},
   "outputs": [
    {
     "output_type": "execute_result",
     "data": {
      "text/plain": [
       "(655, 1)"
      ]
     },
     "metadata": {},
     "execution_count": 28
    }
   ],
   "source": [
    "data_completed.shape"
   ]
  },
  {
   "cell_type": "code",
   "execution_count": 29,
   "metadata": {},
   "outputs": [],
   "source": [
    "inputs = data_completed[len(data_completed) - len(data_test) - 10:].values"
   ]
  },
  {
   "cell_type": "code",
   "execution_count": 30,
   "metadata": {},
   "outputs": [],
   "source": [
    "inputs = inputs.reshape(-1, 1)"
   ]
  },
  {
   "cell_type": "code",
   "execution_count": 31,
   "metadata": {},
   "outputs": [],
   "source": [
    "inputs = scaler.transform(inputs)"
   ]
  },
  {
   "cell_type": "code",
   "execution_count": 32,
   "metadata": {},
   "outputs": [],
   "source": [
    "X_test = []\n",
    "for i in range(10, 41):\n",
    "    X_test.append(inputs[i - 10:i, 0])"
   ]
  },
  {
   "cell_type": "code",
   "execution_count": 33,
   "metadata": {},
   "outputs": [],
   "source": [
    "X_test = np.array(X_test)"
   ]
  },
  {
   "cell_type": "code",
   "execution_count": 34,
   "metadata": {},
   "outputs": [],
   "source": [
    "X_test = np.reshape(X_test, (X_test.shape[0], X_test.shape[1], 1))\n",
    "X_test = torch.from_numpy(X_test).type(torch.Tensor)"
   ]
  },
  {
   "cell_type": "code",
   "execution_count": 35,
   "metadata": {},
   "outputs": [],
   "source": [
    "model.eval()\n",
    "with torch.no_grad():\n",
    "    predict = model(X_test)"
   ]
  },
  {
   "cell_type": "code",
   "execution_count": 36,
   "metadata": {},
   "outputs": [],
   "source": [
    "predict = scaler.inverse_transform(predict)"
   ]
  },
  {
   "cell_type": "code",
   "execution_count": 37,
   "metadata": {},
   "outputs": [
    {
     "output_type": "execute_result",
     "data": {
      "text/plain": [
       "array([-172.7403153])"
      ]
     },
     "metadata": {},
     "execution_count": 37
    }
   ],
   "source": [
    "predict[0]"
   ]
  },
  {
   "cell_type": "code",
   "execution_count": 38,
   "metadata": {},
   "outputs": [
    {
     "output_type": "execute_result",
     "data": {
      "text/plain": [
       "   Positions X\n",
       "0      4680.74\n",
       "1      4696.74\n",
       "2      4712.74\n",
       "3      4728.74\n",
       "4      4744.74"
      ],
      "text/html": "<div>\n<style scoped>\n    .dataframe tbody tr th:only-of-type {\n        vertical-align: middle;\n    }\n\n    .dataframe tbody tr th {\n        vertical-align: top;\n    }\n\n    .dataframe thead th {\n        text-align: right;\n    }\n</style>\n<table border=\"1\" class=\"dataframe\">\n  <thead>\n    <tr style=\"text-align: right;\">\n      <th></th>\n      <th>Positions X</th>\n    </tr>\n  </thead>\n  <tbody>\n    <tr>\n      <th>0</th>\n      <td>4680.74</td>\n    </tr>\n    <tr>\n      <th>1</th>\n      <td>4696.74</td>\n    </tr>\n    <tr>\n      <th>2</th>\n      <td>4712.74</td>\n    </tr>\n    <tr>\n      <th>3</th>\n      <td>4728.74</td>\n    </tr>\n    <tr>\n      <th>4</th>\n      <td>4744.74</td>\n    </tr>\n  </tbody>\n</table>\n</div>"
     },
     "metadata": {},
     "execution_count": 38
    }
   ],
   "source": [
    "data_test.head()"
   ]
  },
  {
   "cell_type": "code",
   "execution_count": null,
   "metadata": {},
   "outputs": [],
   "source": []
  }
 ]
}