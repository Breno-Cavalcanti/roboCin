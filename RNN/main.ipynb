{
 "metadata": {
  "language_info": {
   "codemirror_mode": {
    "name": "ipython",
    "version": 3
   },
   "file_extension": ".py",
   "mimetype": "text/x-python",
   "name": "python",
   "nbconvert_exporter": "python",
   "pygments_lexer": "ipython3",
   "version": "3.8.3-final"
  },
  "orig_nbformat": 2,
  "kernelspec": {
   "name": "python3",
   "display_name": "Python 3",
   "language": "python"
  }
 },
 "nbformat": 4,
 "nbformat_minor": 2,
 "cells": [
  {
   "cell_type": "code",
   "execution_count": 76,
   "metadata": {},
   "outputs": [],
   "source": [
    "import pandas as pd\n",
    "from sklearn.preprocessing import StandardScaler\n",
    "import numpy as np\n",
    "from keras.models import Sequential\n",
    "from keras.layers import Dense, Dropout, LSTM\n",
    "from keras.callbacks import EarlyStopping\n",
    "import time\n",
    "import seaborn as sns\n",
    "import matplotlib.pyplot as plt"
   ]
  },
  {
   "cell_type": "code",
   "execution_count": 77,
   "metadata": {},
   "outputs": [],
   "source": [
    "data = pd.read_csv('train-data.csv')\n",
    "#data.columns = ['Positon X', '-']"
   ]
  },
  {
   "cell_type": "code",
   "execution_count": 78,
   "metadata": {},
   "outputs": [
    {
     "output_type": "execute_result",
     "data": {
      "text/plain": [
       "   Position X\n",
       "0    -5247.64\n",
       "1    -5246.81\n",
       "2    -5244.54\n",
       "3    -5240.81\n",
       "4    -5235.62"
      ],
      "text/html": "<div>\n<style scoped>\n    .dataframe tbody tr th:only-of-type {\n        vertical-align: middle;\n    }\n\n    .dataframe tbody tr th {\n        vertical-align: top;\n    }\n\n    .dataframe thead th {\n        text-align: right;\n    }\n</style>\n<table border=\"1\" class=\"dataframe\">\n  <thead>\n    <tr style=\"text-align: right;\">\n      <th></th>\n      <th>Position X</th>\n    </tr>\n  </thead>\n  <tbody>\n    <tr>\n      <th>0</th>\n      <td>-5247.64</td>\n    </tr>\n    <tr>\n      <th>1</th>\n      <td>-5246.81</td>\n    </tr>\n    <tr>\n      <th>2</th>\n      <td>-5244.54</td>\n    </tr>\n    <tr>\n      <th>3</th>\n      <td>-5240.81</td>\n    </tr>\n    <tr>\n      <th>4</th>\n      <td>-5235.62</td>\n    </tr>\n  </tbody>\n</table>\n</div>"
     },
     "metadata": {},
     "execution_count": 78
    }
   ],
   "source": [
    "data.head()"
   ]
  },
  {
   "cell_type": "code",
   "execution_count": 79,
   "metadata": {},
   "outputs": [],
   "source": [
    "data.dropna(inplace = True, axis = 1)"
   ]
  },
  {
   "cell_type": "code",
   "execution_count": 80,
   "metadata": {},
   "outputs": [
    {
     "output_type": "execute_result",
     "data": {
      "text/plain": [
       "   Position X\n",
       "0    -5247.64\n",
       "1    -5246.81\n",
       "2    -5244.54\n",
       "3    -5240.81\n",
       "4    -5235.62"
      ],
      "text/html": "<div>\n<style scoped>\n    .dataframe tbody tr th:only-of-type {\n        vertical-align: middle;\n    }\n\n    .dataframe tbody tr th {\n        vertical-align: top;\n    }\n\n    .dataframe thead th {\n        text-align: right;\n    }\n</style>\n<table border=\"1\" class=\"dataframe\">\n  <thead>\n    <tr style=\"text-align: right;\">\n      <th></th>\n      <th>Position X</th>\n    </tr>\n  </thead>\n  <tbody>\n    <tr>\n      <th>0</th>\n      <td>-5247.64</td>\n    </tr>\n    <tr>\n      <th>1</th>\n      <td>-5246.81</td>\n    </tr>\n    <tr>\n      <th>2</th>\n      <td>-5244.54</td>\n    </tr>\n    <tr>\n      <th>3</th>\n      <td>-5240.81</td>\n    </tr>\n    <tr>\n      <th>4</th>\n      <td>-5235.62</td>\n    </tr>\n  </tbody>\n</table>\n</div>"
     },
     "metadata": {},
     "execution_count": 80
    }
   ],
   "source": [
    "data.head()"
   ]
  },
  {
   "cell_type": "code",
   "execution_count": 81,
   "metadata": {},
   "outputs": [
    {
     "output_type": "execute_result",
     "data": {
      "text/plain": [
       "(598, 1)"
      ]
     },
     "metadata": {},
     "execution_count": 81
    }
   ],
   "source": [
    "data.shape"
   ]
  },
  {
   "cell_type": "code",
   "execution_count": 82,
   "metadata": {},
   "outputs": [],
   "source": [
    "data.drop_duplicates(inplace= True)"
   ]
  },
  {
   "cell_type": "code",
   "execution_count": 83,
   "metadata": {},
   "outputs": [
    {
     "output_type": "execute_result",
     "data": {
      "text/plain": [
       "   Position X\n",
       "0    -5247.64\n",
       "1    -5246.81\n",
       "2    -5244.54\n",
       "3    -5240.81\n",
       "4    -5235.62"
      ],
      "text/html": "<div>\n<style scoped>\n    .dataframe tbody tr th:only-of-type {\n        vertical-align: middle;\n    }\n\n    .dataframe tbody tr th {\n        vertical-align: top;\n    }\n\n    .dataframe thead th {\n        text-align: right;\n    }\n</style>\n<table border=\"1\" class=\"dataframe\">\n  <thead>\n    <tr style=\"text-align: right;\">\n      <th></th>\n      <th>Position X</th>\n    </tr>\n  </thead>\n  <tbody>\n    <tr>\n      <th>0</th>\n      <td>-5247.64</td>\n    </tr>\n    <tr>\n      <th>1</th>\n      <td>-5246.81</td>\n    </tr>\n    <tr>\n      <th>2</th>\n      <td>-5244.54</td>\n    </tr>\n    <tr>\n      <th>3</th>\n      <td>-5240.81</td>\n    </tr>\n    <tr>\n      <th>4</th>\n      <td>-5235.62</td>\n    </tr>\n  </tbody>\n</table>\n</div>"
     },
     "metadata": {},
     "execution_count": 83
    }
   ],
   "source": [
    "data.head()"
   ]
  },
  {
   "cell_type": "code",
   "execution_count": 84,
   "metadata": {},
   "outputs": [],
   "source": [
    "data.to_csv('positions_wihtout_duplicates.csv', index = False)"
   ]
  },
  {
   "cell_type": "code",
   "execution_count": 85,
   "metadata": {},
   "outputs": [
    {
     "output_type": "execute_result",
     "data": {
      "text/plain": [
       "(598, 1)"
      ]
     },
     "metadata": {},
     "execution_count": 85
    }
   ],
   "source": [
    "data.shape"
   ]
  },
  {
   "cell_type": "code",
   "execution_count": 86,
   "metadata": {},
   "outputs": [],
   "source": [
    "scaler = StandardScaler()\n",
    "data_scaled = scaler.fit_transform(data)"
   ]
  },
  {
   "cell_type": "code",
   "execution_count": 87,
   "metadata": {},
   "outputs": [],
   "source": [
    "last_positions = []\n",
    "real_position = []\n",
    "for i in range(10, 598):\n",
    "    last_positions.append(data_scaled[i-10:i, 0])\n",
    "    real_position.append(data_scaled[i, 0])"
   ]
  },
  {
   "cell_type": "code",
   "execution_count": 88,
   "metadata": {},
   "outputs": [],
   "source": [
    "last_positions, real_position = np.array(last_positions), np.array(real_position)"
   ]
  },
  {
   "cell_type": "code",
   "execution_count": 89,
   "metadata": {},
   "outputs": [],
   "source": [
    "last_positions = np.reshape(last_positions, (last_positions.shape[0], last_positions.shape[1], 1))"
   ]
  },
  {
   "cell_type": "code",
   "execution_count": 90,
   "metadata": {},
   "outputs": [],
   "source": [
    "model = Sequential()\n",
    "model.add(LSTM(units = 100, return_sequences = True, input_shape = (last_positions.shape[1], 1)))\n",
    "model.add(Dropout(0.3))\n",
    "\n",
    "model.add(LSTM(units = 50, return_sequences = True))\n",
    "model.add(Dropout(0.3))\n",
    "\n",
    "model.add(LSTM(units = 50, return_sequences = True))\n",
    "model.add(Dropout(0.3))\n",
    "\n",
    "model.add(LSTM(units = 50, return_sequences = True))\n",
    "model.add(Dropout(0.3))\n",
    "\n",
    "model.add(LSTM(units = 50))\n",
    "model.add(Dropout(0.3))\n",
    "\n",
    "model.add(Dense(units = 1, activation = 'linear'))\n",
    "model.compile(optimizer = 'rmsprop', loss = 'mean_squared_error', metrics = ['mean_absolute_error'])"
   ]
  },
  {
   "cell_type": "code",
   "execution_count": 91,
   "metadata": {
    "tags": []
   },
   "outputs": [
    {
     "output_type": "stream",
     "name": "stdout",
     "text": [
      "Epoch 1/100\n",
      "19/19 [==============================] - 0s 7ms/step - loss: 0.2005 - mean_absolute_error: 0.2888\n",
      "Epoch 2/100\n",
      "19/19 [==============================] - 0s 7ms/step - loss: 0.0409 - mean_absolute_error: 0.1481\n",
      "Epoch 3/100\n",
      "19/19 [==============================] - 0s 7ms/step - loss: 0.0377 - mean_absolute_error: 0.1460\n",
      "Epoch 4/100\n",
      "19/19 [==============================] - 0s 7ms/step - loss: 0.0386 - mean_absolute_error: 0.1509\n",
      "Epoch 5/100\n",
      "19/19 [==============================] - 0s 7ms/step - loss: 0.0371 - mean_absolute_error: 0.1385\n",
      "Epoch 6/100\n",
      "19/19 [==============================] - 0s 8ms/step - loss: 0.0351 - mean_absolute_error: 0.1379\n",
      "Epoch 7/100\n",
      "19/19 [==============================] - 0s 7ms/step - loss: 0.0385 - mean_absolute_error: 0.1431\n",
      "Epoch 8/100\n",
      "19/19 [==============================] - 0s 7ms/step - loss: 0.0315 - mean_absolute_error: 0.1285\n",
      "Epoch 9/100\n",
      "19/19 [==============================] - 0s 7ms/step - loss: 0.0311 - mean_absolute_error: 0.1285\n",
      "Epoch 10/100\n",
      "19/19 [==============================] - 0s 7ms/step - loss: 0.0329 - mean_absolute_error: 0.1307\n",
      "Epoch 11/100\n",
      "19/19 [==============================] - 0s 7ms/step - loss: 0.0372 - mean_absolute_error: 0.1397\n",
      "Epoch 12/100\n",
      "19/19 [==============================] - 0s 8ms/step - loss: 0.0298 - mean_absolute_error: 0.1273\n",
      "Epoch 13/100\n",
      "19/19 [==============================] - 0s 8ms/step - loss: 0.0261 - mean_absolute_error: 0.1106\n",
      "Epoch 14/100\n",
      "19/19 [==============================] - 0s 7ms/step - loss: 0.0290 - mean_absolute_error: 0.1221\n",
      "Epoch 15/100\n",
      "19/19 [==============================] - 0s 7ms/step - loss: 0.0218 - mean_absolute_error: 0.1090\n",
      "Epoch 16/100\n",
      "19/19 [==============================] - 0s 7ms/step - loss: 0.0372 - mean_absolute_error: 0.1432\n",
      "Epoch 17/100\n",
      "19/19 [==============================] - 0s 7ms/step - loss: 0.0214 - mean_absolute_error: 0.1020\n",
      "Epoch 18/100\n",
      "19/19 [==============================] - 0s 7ms/step - loss: 0.0320 - mean_absolute_error: 0.1292\n",
      "Epoch 19/100\n",
      "19/19 [==============================] - 0s 8ms/step - loss: 0.0257 - mean_absolute_error: 0.1186\n",
      "Epoch 20/100\n",
      "19/19 [==============================] - 0s 8ms/step - loss: 0.0281 - mean_absolute_error: 0.1223\n",
      "Epoch 21/100\n",
      "19/19 [==============================] - 0s 7ms/step - loss: 0.0244 - mean_absolute_error: 0.1154\n",
      "Epoch 22/100\n",
      "19/19 [==============================] - 0s 8ms/step - loss: 0.0311 - mean_absolute_error: 0.1274\n",
      "Epoch 23/100\n",
      "19/19 [==============================] - 0s 7ms/step - loss: 0.0240 - mean_absolute_error: 0.1118\n",
      "Epoch 24/100\n",
      "19/19 [==============================] - 0s 8ms/step - loss: 0.0263 - mean_absolute_error: 0.1219\n",
      "Epoch 25/100\n",
      "19/19 [==============================] - 0s 7ms/step - loss: 0.0242 - mean_absolute_error: 0.1133\n",
      "Epoch 26/100\n",
      "19/19 [==============================] - 0s 7ms/step - loss: 0.0259 - mean_absolute_error: 0.1185\n",
      "Epoch 27/100\n",
      "19/19 [==============================] - 0s 8ms/step - loss: 0.0234 - mean_absolute_error: 0.1108\n",
      "Epoch 28/100\n",
      "19/19 [==============================] - 0s 8ms/step - loss: 0.0235 - mean_absolute_error: 0.1109\n",
      "Epoch 29/100\n",
      "19/19 [==============================] - 0s 8ms/step - loss: 0.0211 - mean_absolute_error: 0.1066\n",
      "Epoch 30/100\n",
      "19/19 [==============================] - 0s 7ms/step - loss: 0.0278 - mean_absolute_error: 0.1240\n",
      "Epoch 31/100\n",
      "19/19 [==============================] - 0s 7ms/step - loss: 0.0282 - mean_absolute_error: 0.1212\n",
      "Epoch 32/100\n",
      "19/19 [==============================] - 0s 7ms/step - loss: 0.0255 - mean_absolute_error: 0.1141\n",
      "Epoch 33/100\n",
      "19/19 [==============================] - 0s 6ms/step - loss: 0.0212 - mean_absolute_error: 0.1066\n",
      "Epoch 34/100\n",
      "19/19 [==============================] - 0s 7ms/step - loss: 0.0225 - mean_absolute_error: 0.1114\n",
      "Epoch 35/100\n",
      "19/19 [==============================] - 0s 7ms/step - loss: 0.0225 - mean_absolute_error: 0.1110\n",
      "Epoch 36/100\n",
      "19/19 [==============================] - 0s 7ms/step - loss: 0.0221 - mean_absolute_error: 0.1075\n",
      "Epoch 37/100\n",
      "19/19 [==============================] - 0s 7ms/step - loss: 0.0312 - mean_absolute_error: 0.1255\n",
      "Epoch 38/100\n",
      "19/19 [==============================] - 0s 8ms/step - loss: 0.0208 - mean_absolute_error: 0.1045\n",
      "Epoch 39/100\n",
      "19/19 [==============================] - 0s 8ms/step - loss: 0.0253 - mean_absolute_error: 0.1150\n",
      "Epoch 40/100\n",
      "19/19 [==============================] - 0s 7ms/step - loss: 0.0211 - mean_absolute_error: 0.1076\n",
      "Epoch 41/100\n",
      "19/19 [==============================] - 0s 8ms/step - loss: 0.0228 - mean_absolute_error: 0.1126\n",
      "Epoch 42/100\n",
      "19/19 [==============================] - 0s 8ms/step - loss: 0.0204 - mean_absolute_error: 0.1036\n",
      "Epoch 43/100\n",
      "19/19 [==============================] - 0s 8ms/step - loss: 0.0223 - mean_absolute_error: 0.1109\n",
      "Epoch 44/100\n",
      "19/19 [==============================] - 0s 7ms/step - loss: 0.0186 - mean_absolute_error: 0.1024\n",
      "Epoch 45/100\n",
      "19/19 [==============================] - 0s 8ms/step - loss: 0.0230 - mean_absolute_error: 0.1076\n",
      "Epoch 46/100\n",
      "19/19 [==============================] - 0s 7ms/step - loss: 0.0202 - mean_absolute_error: 0.1041\n",
      "Epoch 47/100\n",
      "19/19 [==============================] - 0s 7ms/step - loss: 0.0180 - mean_absolute_error: 0.0997\n",
      "Epoch 48/100\n",
      "19/19 [==============================] - 0s 7ms/step - loss: 0.0208 - mean_absolute_error: 0.1088\n",
      "Epoch 49/100\n",
      "19/19 [==============================] - 0s 7ms/step - loss: 0.0186 - mean_absolute_error: 0.0984\n",
      "Epoch 50/100\n",
      "19/19 [==============================] - 0s 6ms/step - loss: 0.0240 - mean_absolute_error: 0.1131\n",
      "Epoch 51/100\n",
      "19/19 [==============================] - 0s 6ms/step - loss: 0.0175 - mean_absolute_error: 0.0968\n",
      "Epoch 52/100\n",
      "19/19 [==============================] - 0s 7ms/step - loss: 0.0166 - mean_absolute_error: 0.0939\n",
      "Epoch 53/100\n",
      "19/19 [==============================] - 0s 7ms/step - loss: 0.0167 - mean_absolute_error: 0.0986\n",
      "Epoch 54/100\n",
      "19/19 [==============================] - 0s 7ms/step - loss: 0.0185 - mean_absolute_error: 0.1000\n",
      "Epoch 55/100\n",
      "19/19 [==============================] - 0s 7ms/step - loss: 0.0193 - mean_absolute_error: 0.1048\n",
      "Epoch 56/100\n",
      "19/19 [==============================] - 0s 7ms/step - loss: 0.0188 - mean_absolute_error: 0.1021\n",
      "Epoch 57/100\n",
      "19/19 [==============================] - 0s 7ms/step - loss: 0.0220 - mean_absolute_error: 0.1064\n",
      "Epoch 58/100\n",
      "19/19 [==============================] - 0s 7ms/step - loss: 0.0174 - mean_absolute_error: 0.0970\n",
      "Epoch 59/100\n",
      "19/19 [==============================] - 0s 8ms/step - loss: 0.0170 - mean_absolute_error: 0.0979\n",
      "Epoch 60/100\n",
      "19/19 [==============================] - 0s 7ms/step - loss: 0.0200 - mean_absolute_error: 0.1031\n",
      "Epoch 61/100\n",
      "19/19 [==============================] - 0s 8ms/step - loss: 0.0171 - mean_absolute_error: 0.0949\n",
      "Epoch 62/100\n",
      "19/19 [==============================] - 0s 8ms/step - loss: 0.0193 - mean_absolute_error: 0.1022\n",
      "Epoch 63/100\n",
      "19/19 [==============================] - 0s 7ms/step - loss: 0.0202 - mean_absolute_error: 0.1020\n",
      "Epoch 64/100\n",
      "19/19 [==============================] - 0s 7ms/step - loss: 0.0178 - mean_absolute_error: 0.0999\n",
      "Epoch 65/100\n",
      "19/19 [==============================] - 0s 7ms/step - loss: 0.0181 - mean_absolute_error: 0.1027\n",
      "Epoch 66/100\n",
      "19/19 [==============================] - 0s 7ms/step - loss: 0.0185 - mean_absolute_error: 0.0999\n",
      "Epoch 67/100\n",
      "19/19 [==============================] - 0s 7ms/step - loss: 0.0188 - mean_absolute_error: 0.0978\n",
      "Epoch 68/100\n",
      "19/19 [==============================] - 0s 7ms/step - loss: 0.0160 - mean_absolute_error: 0.0952\n",
      "Epoch 69/100\n",
      "19/19 [==============================] - 0s 7ms/step - loss: 0.0186 - mean_absolute_error: 0.0983\n",
      "Epoch 70/100\n",
      "19/19 [==============================] - 0s 7ms/step - loss: 0.0173 - mean_absolute_error: 0.0983\n",
      "Epoch 71/100\n",
      "19/19 [==============================] - 0s 7ms/step - loss: 0.0175 - mean_absolute_error: 0.0948\n",
      "Epoch 72/100\n",
      "19/19 [==============================] - 0s 7ms/step - loss: 0.0161 - mean_absolute_error: 0.0941\n",
      "Epoch 73/100\n",
      "19/19 [==============================] - 0s 7ms/step - loss: 0.0194 - mean_absolute_error: 0.1037\n",
      "Epoch 74/100\n",
      "19/19 [==============================] - 0s 7ms/step - loss: 0.0193 - mean_absolute_error: 0.1006\n",
      "Epoch 75/100\n",
      "19/19 [==============================] - 0s 7ms/step - loss: 0.0180 - mean_absolute_error: 0.1019\n",
      "Epoch 76/100\n",
      "19/19 [==============================] - 0s 7ms/step - loss: 0.0162 - mean_absolute_error: 0.0927\n",
      "Epoch 77/100\n",
      "19/19 [==============================] - 0s 7ms/step - loss: 0.0155 - mean_absolute_error: 0.0933\n",
      "Epoch 78/100\n",
      "19/19 [==============================] - 0s 8ms/step - loss: 0.0172 - mean_absolute_error: 0.0964\n",
      "Epoch 79/100\n",
      "19/19 [==============================] - 0s 7ms/step - loss: 0.0147 - mean_absolute_error: 0.0894\n",
      "Epoch 80/100\n",
      "19/19 [==============================] - 0s 7ms/step - loss: 0.0187 - mean_absolute_error: 0.1018\n",
      "Epoch 81/100\n",
      "19/19 [==============================] - 0s 7ms/step - loss: 0.0167 - mean_absolute_error: 0.0962\n",
      "Epoch 82/100\n",
      "19/19 [==============================] - 0s 7ms/step - loss: 0.0184 - mean_absolute_error: 0.1006\n",
      "Epoch 83/100\n",
      "19/19 [==============================] - 0s 6ms/step - loss: 0.0176 - mean_absolute_error: 0.0960\n",
      "Epoch 84/100\n",
      "19/19 [==============================] - 0s 7ms/step - loss: 0.0185 - mean_absolute_error: 0.1030\n",
      "Epoch 85/100\n",
      "19/19 [==============================] - 0s 7ms/step - loss: 0.0158 - mean_absolute_error: 0.0929\n",
      "Epoch 86/100\n",
      "19/19 [==============================] - 0s 7ms/step - loss: 0.0142 - mean_absolute_error: 0.0886\n",
      "Epoch 87/100\n",
      "19/19 [==============================] - 0s 8ms/step - loss: 0.0190 - mean_absolute_error: 0.0981\n",
      "Epoch 88/100\n",
      "19/19 [==============================] - 0s 7ms/step - loss: 0.0144 - mean_absolute_error: 0.0874\n",
      "Epoch 89/100\n",
      "19/19 [==============================] - 0s 7ms/step - loss: 0.0158 - mean_absolute_error: 0.0958\n",
      "Epoch 90/100\n",
      "19/19 [==============================] - 0s 8ms/step - loss: 0.0166 - mean_absolute_error: 0.0948\n",
      "Epoch 91/100\n",
      "19/19 [==============================] - 0s 6ms/step - loss: 0.0155 - mean_absolute_error: 0.0941\n",
      "Epoch 92/100\n",
      "19/19 [==============================] - 0s 7ms/step - loss: 0.0151 - mean_absolute_error: 0.0929\n",
      "Epoch 93/100\n",
      "19/19 [==============================] - 0s 7ms/step - loss: 0.0160 - mean_absolute_error: 0.0943\n",
      "Epoch 94/100\n",
      "19/19 [==============================] - 0s 7ms/step - loss: 0.0160 - mean_absolute_error: 0.0957\n",
      "Epoch 95/100\n",
      "19/19 [==============================] - 0s 7ms/step - loss: 0.0184 - mean_absolute_error: 0.1025\n",
      "Epoch 96/100\n",
      "19/19 [==============================] - 0s 7ms/step - loss: 0.0143 - mean_absolute_error: 0.0889\n",
      "Epoch 97/100\n",
      "19/19 [==============================] - 0s 7ms/step - loss: 0.0147 - mean_absolute_error: 0.0907\n",
      "Epoch 98/100\n",
      "19/19 [==============================] - 0s 7ms/step - loss: 0.0142 - mean_absolute_error: 0.0888\n",
      "Epoch 99/100\n",
      "19/19 [==============================] - 0s 6ms/step - loss: 0.0181 - mean_absolute_error: 0.1006\n",
      "Epoch 100/100\n",
      "19/19 [==============================] - 0s 7ms/step - loss: 0.0158 - mean_absolute_error: 0.0937\n",
      "O tempo de treino foi de: 19.13\n"
     ]
    }
   ],
   "source": [
    "t0 = time.time()\n",
    "model.fit(last_positions, real_position, epochs= 100, batch_size = 32)\n",
    "t1 = time.time()\n",
    "delta = t1 - t0\n",
    "delta = round(delta, 2)\n",
    "print(f'O tempo de treino foi de: {delta}')"
   ]
  },
  {
   "cell_type": "code",
   "execution_count": 92,
   "metadata": {},
   "outputs": [],
   "source": [
    "data_test = pd.read_csv('test_data.csv')"
   ]
  },
  {
   "cell_type": "code",
   "execution_count": 135,
   "metadata": {},
   "outputs": [
    {
     "output_type": "execute_result",
     "data": {
      "text/plain": [
       "   Position X\n",
       "0     4761.94\n",
       "1     4777.94\n",
       "2     4793.94\n",
       "3     4809.94\n",
       "4     4825.94"
      ],
      "text/html": "<div>\n<style scoped>\n    .dataframe tbody tr th:only-of-type {\n        vertical-align: middle;\n    }\n\n    .dataframe tbody tr th {\n        vertical-align: top;\n    }\n\n    .dataframe thead th {\n        text-align: right;\n    }\n</style>\n<table border=\"1\" class=\"dataframe\">\n  <thead>\n    <tr style=\"text-align: right;\">\n      <th></th>\n      <th>Position X</th>\n    </tr>\n  </thead>\n  <tbody>\n    <tr>\n      <th>0</th>\n      <td>4761.94</td>\n    </tr>\n    <tr>\n      <th>1</th>\n      <td>4777.94</td>\n    </tr>\n    <tr>\n      <th>2</th>\n      <td>4793.94</td>\n    </tr>\n    <tr>\n      <th>3</th>\n      <td>4809.94</td>\n    </tr>\n    <tr>\n      <th>4</th>\n      <td>4825.94</td>\n    </tr>\n  </tbody>\n</table>\n</div>"
     },
     "metadata": {},
     "execution_count": 135
    }
   ],
   "source": [
    "data_test.head()"
   ]
  },
  {
   "cell_type": "code",
   "execution_count": 136,
   "metadata": {},
   "outputs": [],
   "source": [
    "complete_base = pd.concat((data, data_test), axis = 0)"
   ]
  },
  {
   "cell_type": "code",
   "execution_count": 137,
   "metadata": {},
   "outputs": [
    {
     "output_type": "execute_result",
     "data": {
      "text/plain": [
       "(633, 1)"
      ]
     },
     "metadata": {},
     "execution_count": 137
    }
   ],
   "source": [
    "complete_base.shape"
   ]
  },
  {
   "cell_type": "code",
   "execution_count": 138,
   "metadata": {},
   "outputs": [],
   "source": [
    "inputs = complete_base[len(complete_base) - len(data_test) - 10:].values"
   ]
  },
  {
   "cell_type": "code",
   "execution_count": 139,
   "metadata": {},
   "outputs": [],
   "source": [
    "inputs = inputs.reshape(-1,1)"
   ]
  },
  {
   "cell_type": "code",
   "execution_count": 140,
   "metadata": {},
   "outputs": [],
   "source": [
    "inputs = scaler.transform(inputs)"
   ]
  },
  {
   "cell_type": "code",
   "execution_count": 141,
   "metadata": {},
   "outputs": [
    {
     "output_type": "execute_result",
     "data": {
      "text/plain": [
       "(45, 1)"
      ]
     },
     "metadata": {},
     "execution_count": 141
    }
   ],
   "source": [
    "inputs.shape"
   ]
  },
  {
   "cell_type": "code",
   "execution_count": 160,
   "metadata": {},
   "outputs": [
    {
     "output_type": "execute_result",
     "data": {
      "text/plain": [
       "(35, 10)"
      ]
     },
     "metadata": {},
     "execution_count": 160
    }
   ],
   "source": [
    "x_test = []\n",
    "for i in range(10, 45):\n",
    "    x_test.append(inputs[i - 10:i, 0])\n",
    "x_test = np.array(x_test)\n",
    "x_test.shape"
   ]
  },
  {
   "cell_type": "code",
   "execution_count": 161,
   "metadata": {},
   "outputs": [],
   "source": [
    "x_test = np.reshape(x_test, (x_test.shape[0], x_test.shape[1], 1))"
   ]
  },
  {
   "cell_type": "code",
   "execution_count": 162,
   "metadata": {},
   "outputs": [
    {
     "output_type": "stream",
     "name": "stdout",
     "text": [
      "O tempo para prever 35 posições é: 0.11\n"
     ]
    }
   ],
   "source": [
    "t0 = time.time()\n",
    "predictions = model.predict(x_test)\n",
    "t1 = time.time()\n",
    "delta = t1 - t0\n",
    "delta = round(delta, 2)\n",
    "print(f'O tempo para prever 35 posições é: {delta}')"
   ]
  },
  {
   "cell_type": "code",
   "execution_count": 163,
   "metadata": {},
   "outputs": [],
   "source": [
    "predictions = scaler.inverse_transform(predictions)"
   ]
  },
  {
   "cell_type": "code",
   "execution_count": 180,
   "metadata": {},
   "outputs": [
    {
     "output_type": "execute_result",
     "data": {
      "text/plain": [
       "array([[4728.394 ],\n",
       "       [4732.134 ],\n",
       "       [4735.8037],\n",
       "       [4739.4043],\n",
       "       [4742.938 ],\n",
       "       [4746.4062],\n",
       "       [4749.8105],\n",
       "       [4753.15  ],\n",
       "       [4756.4224],\n",
       "       [4759.635 ],\n",
       "       [4762.819 ],\n",
       "       [4766.0327],\n",
       "       [4769.3345],\n",
       "       [4772.7593],\n",
       "       [4776.3057],\n",
       "       [4779.9185],\n",
       "       [4783.4746],\n",
       "       [4786.2246],\n",
       "       [4788.9287],\n",
       "       [4791.5864],\n",
       "       [4794.201 ],\n",
       "       [4796.7725],\n",
       "       [4799.3   ],\n",
       "       [4801.787 ],\n",
       "       [4804.2334],\n",
       "       [4806.64  ],\n",
       "       [4809.0083],\n",
       "       [4811.3384],\n",
       "       [4813.631 ],\n",
       "       [4815.8877],\n",
       "       [4818.1094],\n",
       "       [4820.296 ],\n",
       "       [4822.4507],\n",
       "       [4824.5786],\n",
       "       [4826.6865]], dtype=float32)"
      ]
     },
     "metadata": {},
     "execution_count": 180
    }
   ],
   "source": [
    "predictions"
   ]
  },
  {
   "cell_type": "code",
   "execution_count": 181,
   "metadata": {},
   "outputs": [
    {
     "output_type": "execute_result",
     "data": {
      "text/plain": [
       "   Position X\n",
       "0     4761.94\n",
       "1     4777.94\n",
       "2     4793.94\n",
       "3     4809.94\n",
       "4     4825.94"
      ],
      "text/html": "<div>\n<style scoped>\n    .dataframe tbody tr th:only-of-type {\n        vertical-align: middle;\n    }\n\n    .dataframe tbody tr th {\n        vertical-align: top;\n    }\n\n    .dataframe thead th {\n        text-align: right;\n    }\n</style>\n<table border=\"1\" class=\"dataframe\">\n  <thead>\n    <tr style=\"text-align: right;\">\n      <th></th>\n      <th>Position X</th>\n    </tr>\n  </thead>\n  <tbody>\n    <tr>\n      <th>0</th>\n      <td>4761.94</td>\n    </tr>\n    <tr>\n      <th>1</th>\n      <td>4777.94</td>\n    </tr>\n    <tr>\n      <th>2</th>\n      <td>4793.94</td>\n    </tr>\n    <tr>\n      <th>3</th>\n      <td>4809.94</td>\n    </tr>\n    <tr>\n      <th>4</th>\n      <td>4825.94</td>\n    </tr>\n  </tbody>\n</table>\n</div>"
     },
     "metadata": {},
     "execution_count": 181
    }
   ],
   "source": [
    "data_test.head()"
   ]
  },
  {
   "cell_type": "code",
   "execution_count": 182,
   "metadata": {},
   "outputs": [
    {
     "output_type": "execute_result",
     "data": {
      "text/plain": [
       "(35, 1)"
      ]
     },
     "metadata": {},
     "execution_count": 182
    }
   ],
   "source": [
    "data_test.shape"
   ]
  },
  {
   "cell_type": "code",
   "execution_count": 183,
   "metadata": {},
   "outputs": [
    {
     "output_type": "execute_result",
     "data": {
      "text/plain": [
       "(35, 1)"
      ]
     },
     "metadata": {},
     "execution_count": 183
    }
   ],
   "source": [
    "predictions.shape"
   ]
  },
  {
   "cell_type": "code",
   "execution_count": 184,
   "metadata": {},
   "outputs": [],
   "source": [
    "data2compare = data_test.copy()"
   ]
  },
  {
   "cell_type": "code",
   "execution_count": 185,
   "metadata": {},
   "outputs": [
    {
     "output_type": "execute_result",
     "data": {
      "text/plain": [
       "(35, 1)"
      ]
     },
     "metadata": {},
     "execution_count": 185
    }
   ],
   "source": [
    "data2compare.shape"
   ]
  },
  {
   "cell_type": "code",
   "execution_count": 186,
   "metadata": {},
   "outputs": [],
   "source": [
    "def roundPredict(value):\n",
    "    return round(value,2)\n",
    "data2compare['Predictions'] = predictions\n",
    "data2compare['Predictions'] = data2compare['Predictions'].apply(roundPredict)"
   ]
  },
  {
   "cell_type": "code",
   "execution_count": 187,
   "metadata": {},
   "outputs": [
    {
     "output_type": "execute_result",
     "data": {
      "text/plain": [
       "   Position X  Predictions\n",
       "0     4761.94      4728.39\n",
       "1     4777.94      4732.13\n",
       "2     4793.94      4735.80\n",
       "3     4809.94      4739.40\n",
       "4     4825.94      4742.94"
      ],
      "text/html": "<div>\n<style scoped>\n    .dataframe tbody tr th:only-of-type {\n        vertical-align: middle;\n    }\n\n    .dataframe tbody tr th {\n        vertical-align: top;\n    }\n\n    .dataframe thead th {\n        text-align: right;\n    }\n</style>\n<table border=\"1\" class=\"dataframe\">\n  <thead>\n    <tr style=\"text-align: right;\">\n      <th></th>\n      <th>Position X</th>\n      <th>Predictions</th>\n    </tr>\n  </thead>\n  <tbody>\n    <tr>\n      <th>0</th>\n      <td>4761.94</td>\n      <td>4728.39</td>\n    </tr>\n    <tr>\n      <th>1</th>\n      <td>4777.94</td>\n      <td>4732.13</td>\n    </tr>\n    <tr>\n      <th>2</th>\n      <td>4793.94</td>\n      <td>4735.80</td>\n    </tr>\n    <tr>\n      <th>3</th>\n      <td>4809.94</td>\n      <td>4739.40</td>\n    </tr>\n    <tr>\n      <th>4</th>\n      <td>4825.94</td>\n      <td>4742.94</td>\n    </tr>\n  </tbody>\n</table>\n</div>"
     },
     "metadata": {},
     "execution_count": 187
    }
   ],
   "source": [
    "data2compare.head()"
   ]
  },
  {
   "cell_type": "code",
   "execution_count": null,
   "metadata": {},
   "outputs": [],
   "source": []
  }
 ]
}