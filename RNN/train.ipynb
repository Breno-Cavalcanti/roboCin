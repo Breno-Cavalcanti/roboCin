{
  "nbformat": 4,
  "nbformat_minor": 0,
  "metadata": {
    "language_info": {
      "codemirror_mode": {
        "name": "ipython",
        "version": 3
      },
      "file_extension": ".py",
      "mimetype": "text/x-python",
      "name": "python",
      "nbconvert_exporter": "python",
      "pygments_lexer": "ipython3",
      "version": "3.8.3-final"
    },
    "orig_nbformat": 2,
    "kernelspec": {
      "name": "python3",
      "display_name": "Python 3",
      "language": "python"
    },
    "colab": {
      "name": "Copy of main.ipynb",
      "provenance": [],
      "collapsed_sections": []
    }
  },
  "cells": [
    {
      "cell_type": "code",
      "metadata": {
        "id": "EXvHAWVRHxH3"
      },
      "source": [
        "import pandas as pd\n",
        "from sklearn.preprocessing import StandardScaler, MinMaxScaler\n",
        "import numpy as np\n",
        "from keras.models import Sequential\n",
        "from keras.layers import Dense, Dropout, LSTM\n",
        "from keras.callbacks import EarlyStopping\n",
        "import time\n",
        "import seaborn as sns\n",
        "import matplotlib.pyplot as plt\n",
        "from pickle impor dump"
      ],
      "execution_count": null,
      "outputs": []
    },
    {
      "cell_type": "code",
      "metadata": {
        "id": "pYZpTXZ0HxIN"
      },
      "source": [
        "data = pd.read_csv('train_with_out_vanishing.csv')"
      ],
      "execution_count": null,
      "outputs": []
    },
    {
      "cell_type": "code",
      "metadata": {
        "colab": {
          "base_uri": "https://localhost:8080/",
          "height": 204
        },
        "id": "-aFAnwIbHxIO",
        "outputId": "3cd38756-3601-44f8-a216-169c01295ad7"
      },
      "source": [
        "data.head()"
      ],
      "execution_count": null,
      "outputs": [
        {
          "output_type": "execute_result",
          "data": {
            "text/html": [
              "<div>\n",
              "<style scoped>\n",
              "    .dataframe tbody tr th:only-of-type {\n",
              "        vertical-align: middle;\n",
              "    }\n",
              "\n",
              "    .dataframe tbody tr th {\n",
              "        vertical-align: top;\n",
              "    }\n",
              "\n",
              "    .dataframe thead th {\n",
              "        text-align: right;\n",
              "    }\n",
              "</style>\n",
              "<table border=\"1\" class=\"dataframe\">\n",
              "  <thead>\n",
              "    <tr style=\"text-align: right;\">\n",
              "      <th></th>\n",
              "      <th>Positions X</th>\n",
              "    </tr>\n",
              "  </thead>\n",
              "  <tbody>\n",
              "    <tr>\n",
              "      <th>0</th>\n",
              "      <td>-5216.84</td>\n",
              "    </tr>\n",
              "    <tr>\n",
              "      <th>1</th>\n",
              "      <td>-5216.01</td>\n",
              "    </tr>\n",
              "    <tr>\n",
              "      <th>2</th>\n",
              "      <td>-5213.73</td>\n",
              "    </tr>\n",
              "    <tr>\n",
              "      <th>3</th>\n",
              "      <td>-5210.01</td>\n",
              "    </tr>\n",
              "    <tr>\n",
              "      <th>4</th>\n",
              "      <td>-5204.82</td>\n",
              "    </tr>\n",
              "  </tbody>\n",
              "</table>\n",
              "</div>"
            ],
            "text/plain": [
              "   Positions X\n",
              "0     -5216.84\n",
              "1     -5216.01\n",
              "2     -5213.73\n",
              "3     -5210.01\n",
              "4     -5204.82"
            ]
          },
          "metadata": {
            "tags": []
          },
          "execution_count": 60
        }
      ]
    },
    {
      "cell_type": "code",
      "metadata": {
        "id": "O9cxj2_mHxIS"
      },
      "source": [
        "data.dropna(inplace = True, axis = 1) # Caso haja valores nulos, irei remove-los."
      ],
      "execution_count": null,
      "outputs": []
    },
    {
      "cell_type": "code",
      "metadata": {
        "colab": {
          "base_uri": "https://localhost:8080/",
          "height": 204
        },
        "id": "y-fZcPWjHxIT",
        "outputId": "49302b41-88ff-4e60-a796-e9895dbc1c5c"
      },
      "source": [
        "data.head()"
      ],
      "execution_count": null,
      "outputs": [
        {
          "output_type": "execute_result",
          "data": {
            "text/html": [
              "<div>\n",
              "<style scoped>\n",
              "    .dataframe tbody tr th:only-of-type {\n",
              "        vertical-align: middle;\n",
              "    }\n",
              "\n",
              "    .dataframe tbody tr th {\n",
              "        vertical-align: top;\n",
              "    }\n",
              "\n",
              "    .dataframe thead th {\n",
              "        text-align: right;\n",
              "    }\n",
              "</style>\n",
              "<table border=\"1\" class=\"dataframe\">\n",
              "  <thead>\n",
              "    <tr style=\"text-align: right;\">\n",
              "      <th></th>\n",
              "      <th>Positions X</th>\n",
              "    </tr>\n",
              "  </thead>\n",
              "  <tbody>\n",
              "    <tr>\n",
              "      <th>0</th>\n",
              "      <td>-5216.84</td>\n",
              "    </tr>\n",
              "    <tr>\n",
              "      <th>1</th>\n",
              "      <td>-5216.01</td>\n",
              "    </tr>\n",
              "    <tr>\n",
              "      <th>2</th>\n",
              "      <td>-5213.73</td>\n",
              "    </tr>\n",
              "    <tr>\n",
              "      <th>3</th>\n",
              "      <td>-5210.01</td>\n",
              "    </tr>\n",
              "    <tr>\n",
              "      <th>4</th>\n",
              "      <td>-5204.82</td>\n",
              "    </tr>\n",
              "  </tbody>\n",
              "</table>\n",
              "</div>"
            ],
            "text/plain": [
              "   Positions X\n",
              "0     -5216.84\n",
              "1     -5216.01\n",
              "2     -5213.73\n",
              "3     -5210.01\n",
              "4     -5204.82"
            ]
          },
          "metadata": {
            "tags": []
          },
          "execution_count": 62
        }
      ]
    },
    {
      "cell_type": "code",
      "metadata": {
        "colab": {
          "base_uri": "https://localhost:8080/"
        },
        "id": "KuReB5pJHxIU",
        "outputId": "c0e5bbdd-e926-4f95-f9ff-ea730ec0e9a2"
      },
      "source": [
        "data.shape"
      ],
      "execution_count": null,
      "outputs": [
        {
          "output_type": "execute_result",
          "data": {
            "text/plain": [
              "(624, 1)"
            ]
          },
          "metadata": {
            "tags": []
          },
          "execution_count": 63
        }
      ]
    },
    {
      "cell_type": "code",
      "metadata": {
        "id": "Xhv3dvcJHxIX"
      },
      "source": [
        "data.drop_duplicates(inplace= True) # caso haja valores dublicados, irei remove-los."
      ],
      "execution_count": null,
      "outputs": []
    },
    {
      "cell_type": "code",
      "metadata": {
        "colab": {
          "base_uri": "https://localhost:8080/",
          "height": 204
        },
        "id": "fF7P1rpiHxIY",
        "outputId": "9b249e27-b9c2-4a26-d87c-7c8af9254642"
      },
      "source": [
        "data.head()"
      ],
      "execution_count": null,
      "outputs": [
        {
          "output_type": "execute_result",
          "data": {
            "text/html": [
              "<div>\n",
              "<style scoped>\n",
              "    .dataframe tbody tr th:only-of-type {\n",
              "        vertical-align: middle;\n",
              "    }\n",
              "\n",
              "    .dataframe tbody tr th {\n",
              "        vertical-align: top;\n",
              "    }\n",
              "\n",
              "    .dataframe thead th {\n",
              "        text-align: right;\n",
              "    }\n",
              "</style>\n",
              "<table border=\"1\" class=\"dataframe\">\n",
              "  <thead>\n",
              "    <tr style=\"text-align: right;\">\n",
              "      <th></th>\n",
              "      <th>Positions X</th>\n",
              "    </tr>\n",
              "  </thead>\n",
              "  <tbody>\n",
              "    <tr>\n",
              "      <th>0</th>\n",
              "      <td>-5216.84</td>\n",
              "    </tr>\n",
              "    <tr>\n",
              "      <th>1</th>\n",
              "      <td>-5216.01</td>\n",
              "    </tr>\n",
              "    <tr>\n",
              "      <th>2</th>\n",
              "      <td>-5213.73</td>\n",
              "    </tr>\n",
              "    <tr>\n",
              "      <th>3</th>\n",
              "      <td>-5210.01</td>\n",
              "    </tr>\n",
              "    <tr>\n",
              "      <th>4</th>\n",
              "      <td>-5204.82</td>\n",
              "    </tr>\n",
              "  </tbody>\n",
              "</table>\n",
              "</div>"
            ],
            "text/plain": [
              "   Positions X\n",
              "0     -5216.84\n",
              "1     -5216.01\n",
              "2     -5213.73\n",
              "3     -5210.01\n",
              "4     -5204.82"
            ]
          },
          "metadata": {
            "tags": []
          },
          "execution_count": 65
        }
      ]
    },
    {
      "cell_type": "code",
      "metadata": {
        "colab": {
          "base_uri": "https://localhost:8080/"
        },
        "id": "Dc9DtRkwHxIb",
        "outputId": "70a7b3f7-78d9-4348-f5cd-5e85d317ab39"
      },
      "source": [
        "data.shape"
      ],
      "execution_count": null,
      "outputs": [
        {
          "output_type": "execute_result",
          "data": {
            "text/plain": [
              "(624, 1)"
            ]
          },
          "metadata": {
            "tags": []
          },
          "execution_count": 68
        }
      ]
    },
    {
      "cell_type": "code",
      "metadata": {
        "id": "stILuGQyHxIc"
      },
      "source": [
        "scaler = MinMaxScaler(feature_range = (0,1)) # escalando os dados\n",
        "data_scaled = scaler.fit_transform(data)\n",
        "dump(scaler, open('scaler.pkl', 'wb')) # salvando o scaler."
      ],
      "execution_count": null,
      "outputs": []
    },
    {
      "cell_type": "code",
      "metadata": {
        "id": "5Z1p75woHxId"
      },
      "source": [
        "last_positions = [] # lista que irá armazenar as últimas 10 posições.\n",
        "real_position = [] # lista que irá armazenar as posições reais.\n",
        "for i in range(10, 598):\n",
        "    last_positions.append(data_scaled[i-10:i, 0])\n",
        "    real_position.append(data_scaled[i, 0])"
      ],
      "execution_count": null,
      "outputs": []
    },
    {
      "cell_type": "code",
      "metadata": {
        "id": "WY2dKK0MHxId"
      },
      "source": [
        "last_positions, real_position = np.array(last_positions), np.array(real_position)"
      ],
      "execution_count": null,
      "outputs": []
    },
    {
      "cell_type": "code",
      "metadata": {
        "id": "QKIQthKdHxIe"
      },
      "source": [
        "last_positions = np.reshape(last_positions, (last_positions.shape[0], last_positions.shape[1], 1))"
      ],
      "execution_count": null,
      "outputs": []
    },
    {
      "cell_type": "code",
      "metadata": {
        "id": "8wbZAQqZHxIf"
      },
      "source": [
        "model = Sequential()\n",
        "\n",
        "model.add(LSTM(units = 100, input_shape = (last_positions.shape[1], 1)))\n",
        "model.add(Dropout(0.4)) # A RNN que atingiu a menor loss foi a que possuia esta configuração.\n",
        "\n",
        "model.add(Dense(units = 1, activation = 'linear'))\n",
        "model.compile(optimizer = 'rmsprop', loss = 'mean_squared_error', metrics = ['mean_absolute_error'])"
      ],
      "execution_count": null,
      "outputs": []
    },
    {
      "cell_type": "code",
      "metadata": {
        "tags": [],
        "colab": {
          "base_uri": "https://localhost:8080/"
        },
        "id": "WwL30OX1HxIg",
        "outputId": "eb33ee3e-f892-4bcd-c14c-8d23a269348d"
      },
      "source": [
        "t0 = time.time()\n",
        "model.fit(last_positions, real_position, epochs= 50, batch_size = 4)\n",
        "t1 = time.time()\n",
        "delta = t1 - t0\n",
        "delta = round(delta, 2)\n",
        "print(f'O tempo de treino foi de: {delta}') # Análise para documentação."
      ],
      "execution_count": null,
      "outputs": [
        {
          "output_type": "stream",
          "text": [
            "Epoch 1/50\n",
            "147/147 [==============================] - 1s 4ms/step - loss: 0.0080 - mean_absolute_error: 0.0623\n",
            "Epoch 2/50\n",
            "147/147 [==============================] - 1s 4ms/step - loss: 0.0047 - mean_absolute_error: 0.0496\n",
            "Epoch 3/50\n",
            "147/147 [==============================] - 1s 4ms/step - loss: 0.0042 - mean_absolute_error: 0.0450\n",
            "Epoch 4/50\n",
            "147/147 [==============================] - 1s 4ms/step - loss: 0.0037 - mean_absolute_error: 0.0421\n",
            "Epoch 5/50\n",
            "147/147 [==============================] - 1s 4ms/step - loss: 0.0035 - mean_absolute_error: 0.0399\n",
            "Epoch 6/50\n",
            "147/147 [==============================] - 1s 5ms/step - loss: 0.0034 - mean_absolute_error: 0.0413\n",
            "Epoch 7/50\n",
            "147/147 [==============================] - 1s 4ms/step - loss: 0.0027 - mean_absolute_error: 0.0364\n",
            "Epoch 8/50\n",
            "147/147 [==============================] - 1s 4ms/step - loss: 0.0032 - mean_absolute_error: 0.0384\n",
            "Epoch 9/50\n",
            "147/147 [==============================] - 1s 4ms/step - loss: 0.0026 - mean_absolute_error: 0.0358\n",
            "Epoch 10/50\n",
            "147/147 [==============================] - 1s 4ms/step - loss: 0.0026 - mean_absolute_error: 0.0338\n",
            "Epoch 11/50\n",
            "147/147 [==============================] - 1s 4ms/step - loss: 0.0029 - mean_absolute_error: 0.0372\n",
            "Epoch 12/50\n",
            "147/147 [==============================] - 1s 4ms/step - loss: 0.0022 - mean_absolute_error: 0.0322\n",
            "Epoch 13/50\n",
            "147/147 [==============================] - 1s 5ms/step - loss: 0.0019 - mean_absolute_error: 0.0310\n",
            "Epoch 14/50\n",
            "147/147 [==============================] - 1s 4ms/step - loss: 0.0023 - mean_absolute_error: 0.0328\n",
            "Epoch 15/50\n",
            "147/147 [==============================] - 1s 5ms/step - loss: 0.0019 - mean_absolute_error: 0.0311\n",
            "Epoch 16/50\n",
            "147/147 [==============================] - 1s 5ms/step - loss: 0.0018 - mean_absolute_error: 0.0299\n",
            "Epoch 17/50\n",
            "147/147 [==============================] - 1s 4ms/step - loss: 0.0018 - mean_absolute_error: 0.0288\n",
            "Epoch 18/50\n",
            "147/147 [==============================] - 1s 5ms/step - loss: 0.0018 - mean_absolute_error: 0.0292\n",
            "Epoch 19/50\n",
            "147/147 [==============================] - 1s 4ms/step - loss: 0.0015 - mean_absolute_error: 0.0277\n",
            "Epoch 20/50\n",
            "147/147 [==============================] - 1s 4ms/step - loss: 0.0015 - mean_absolute_error: 0.0277\n",
            "Epoch 21/50\n",
            "147/147 [==============================] - 1s 5ms/step - loss: 0.0014 - mean_absolute_error: 0.0265\n",
            "Epoch 22/50\n",
            "147/147 [==============================] - 1s 5ms/step - loss: 0.0014 - mean_absolute_error: 0.0261\n",
            "Epoch 23/50\n",
            "147/147 [==============================] - 1s 4ms/step - loss: 0.0012 - mean_absolute_error: 0.0244\n",
            "Epoch 24/50\n",
            "147/147 [==============================] - 1s 5ms/step - loss: 0.0014 - mean_absolute_error: 0.0271\n",
            "Epoch 25/50\n",
            "147/147 [==============================] - 1s 4ms/step - loss: 0.0013 - mean_absolute_error: 0.0258\n",
            "Epoch 26/50\n",
            "147/147 [==============================] - 1s 4ms/step - loss: 0.0014 - mean_absolute_error: 0.0263\n",
            "Epoch 27/50\n",
            "147/147 [==============================] - 1s 4ms/step - loss: 0.0013 - mean_absolute_error: 0.0257\n",
            "Epoch 28/50\n",
            "147/147 [==============================] - 1s 4ms/step - loss: 0.0012 - mean_absolute_error: 0.0242\n",
            "Epoch 29/50\n",
            "147/147 [==============================] - 1s 4ms/step - loss: 0.0012 - mean_absolute_error: 0.0248\n",
            "Epoch 30/50\n",
            "147/147 [==============================] - 1s 4ms/step - loss: 9.0493e-04 - mean_absolute_error: 0.0223\n",
            "Epoch 31/50\n",
            "147/147 [==============================] - 1s 4ms/step - loss: 0.0010 - mean_absolute_error: 0.0229\n",
            "Epoch 32/50\n",
            "147/147 [==============================] - 1s 4ms/step - loss: 9.8180e-04 - mean_absolute_error: 0.0225\n",
            "Epoch 33/50\n",
            "147/147 [==============================] - 1s 4ms/step - loss: 9.6266e-04 - mean_absolute_error: 0.0226\n",
            "Epoch 34/50\n",
            "147/147 [==============================] - 1s 4ms/step - loss: 9.2919e-04 - mean_absolute_error: 0.0225\n",
            "Epoch 35/50\n",
            "147/147 [==============================] - 1s 5ms/step - loss: 9.3969e-04 - mean_absolute_error: 0.0232\n",
            "Epoch 36/50\n",
            "147/147 [==============================] - 1s 4ms/step - loss: 9.7503e-04 - mean_absolute_error: 0.0235\n",
            "Epoch 37/50\n",
            "147/147 [==============================] - 1s 4ms/step - loss: 9.7936e-04 - mean_absolute_error: 0.0228\n",
            "Epoch 38/50\n",
            "147/147 [==============================] - 1s 4ms/step - loss: 0.0011 - mean_absolute_error: 0.0237\n",
            "Epoch 39/50\n",
            "147/147 [==============================] - 1s 5ms/step - loss: 9.9928e-04 - mean_absolute_error: 0.0233\n",
            "Epoch 40/50\n",
            "147/147 [==============================] - 1s 4ms/step - loss: 9.2820e-04 - mean_absolute_error: 0.0226\n",
            "Epoch 41/50\n",
            "147/147 [==============================] - 1s 4ms/step - loss: 0.0011 - mean_absolute_error: 0.0237\n",
            "Epoch 42/50\n",
            "147/147 [==============================] - 1s 5ms/step - loss: 9.4969e-04 - mean_absolute_error: 0.0230\n",
            "Epoch 43/50\n",
            "147/147 [==============================] - 1s 4ms/step - loss: 8.1753e-04 - mean_absolute_error: 0.0212\n",
            "Epoch 44/50\n",
            "147/147 [==============================] - 1s 5ms/step - loss: 0.0010 - mean_absolute_error: 0.0232\n",
            "Epoch 45/50\n",
            "147/147 [==============================] - 1s 4ms/step - loss: 9.4926e-04 - mean_absolute_error: 0.0223\n",
            "Epoch 46/50\n",
            "147/147 [==============================] - 1s 5ms/step - loss: 9.1561e-04 - mean_absolute_error: 0.0220\n",
            "Epoch 47/50\n",
            "147/147 [==============================] - 1s 4ms/step - loss: 9.3136e-04 - mean_absolute_error: 0.0228\n",
            "Epoch 48/50\n",
            "147/147 [==============================] - 1s 5ms/step - loss: 9.3737e-04 - mean_absolute_error: 0.0227\n",
            "Epoch 49/50\n",
            "147/147 [==============================] - 1s 4ms/step - loss: 9.6677e-04 - mean_absolute_error: 0.0231\n",
            "Epoch 50/50\n",
            "147/147 [==============================] - 1s 5ms/step - loss: 8.6258e-04 - mean_absolute_error: 0.0221\n",
            "O tempo de treino foi de: 34.66\n"
          ],
          "name": "stdout"
        }
      ]
    },
    {
      "cell_type": "code",
      "metadata": {
        "colab": {
          "base_uri": "https://localhost:8080/"
        },
        "id": "6vNmqXcTWnwD",
        "outputId": "bfc576c1-b79b-4278-b8bc-45ed9d8e2777"
      },
      "source": [
        "model.summary()"
      ],
      "execution_count": null,
      "outputs": [
        {
          "output_type": "stream",
          "text": [
            "Model: \"sequential_10\"\n",
            "_________________________________________________________________\n",
            "Layer (type)                 Output Shape              Param #   \n",
            "=================================================================\n",
            "lstm_17 (LSTM)               (None, 100)               40800     \n",
            "_________________________________________________________________\n",
            "dropout_17 (Dropout)         (None, 100)               0         \n",
            "_________________________________________________________________\n",
            "dense_10 (Dense)             (None, 1)                 101       \n",
            "=================================================================\n",
            "Total params: 40,901\n",
            "Trainable params: 40,901\n",
            "Non-trainable params: 0\n",
            "_________________________________________________________________\n"
          ],
          "name": "stdout"
        }
      ]
    },
    {
      "cell_type": "code",
      "metadata": {
        "colab": {
          "base_uri": "https://localhost:8080/"
        },
        "id": "vm4yEPP1HxIr",
        "outputId": "1d3c2246-5f58-4f4f-ad9a-21960c150ea5"
      },
      "source": [
        "model.save('new_model_very_good') # salvando o modelo."
      ],
      "execution_count": null,
      "outputs": [
        {
          "output_type": "stream",
          "text": [
            "WARNING:tensorflow:From /usr/local/lib/python3.6/dist-packages/tensorflow/python/training/tracking/tracking.py:111: Model.state_updates (from tensorflow.python.keras.engine.training) is deprecated and will be removed in a future version.\n",
            "Instructions for updating:\n",
            "This property should not be used in TensorFlow 2.0, as updates are applied automatically.\n",
            "WARNING:tensorflow:From /usr/local/lib/python3.6/dist-packages/tensorflow/python/training/tracking/tracking.py:111: Layer.updates (from tensorflow.python.keras.engine.base_layer) is deprecated and will be removed in a future version.\n",
            "Instructions for updating:\n",
            "This property should not be used in TensorFlow 2.0, as updates are applied automatically.\n",
            "INFO:tensorflow:Assets written to: new_model_very_good/assets\n"
          ],
          "name": "stdout"
        }
      ]
    },
    {
      "cell_type": "code",
      "metadata": {
        "id": "ATKzQp78UGp5"
      },
      "source": [
        "model.save('new_model_very_good.h5') # salvando o modelo de outra maneira."
      ],
      "execution_count": null,
      "outputs": []
    }
  ]
}