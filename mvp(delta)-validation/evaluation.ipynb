{
 "metadata": {
  "language_info": {
   "codemirror_mode": {
    "name": "ipython",
    "version": 3
   },
   "file_extension": ".py",
   "mimetype": "text/x-python",
   "name": "python",
   "nbconvert_exporter": "python",
   "pygments_lexer": "ipython3",
   "version": "3.8.3-final"
  },
  "orig_nbformat": 2,
  "kernelspec": {
   "name": "python3",
   "display_name": "Python 3",
   "language": "python"
  }
 },
 "nbformat": 4,
 "nbformat_minor": 2,
 "cells": [
  {
   "cell_type": "code",
   "execution_count": 1,
   "metadata": {},
   "outputs": [],
   "source": [
    "import pandas as pd\n"
   ]
  },
  {
   "cell_type": "code",
   "execution_count": 26,
   "metadata": {},
   "outputs": [],
   "source": [
    "data = pd.read_csv('test_mvp_with_vanishing.csv')"
   ]
  },
  {
   "cell_type": "code",
   "execution_count": 27,
   "metadata": {},
   "outputs": [
    {
     "output_type": "execute_result",
     "data": {
      "text/plain": [
       "   real_values  predict_values\n",
       "0     -5251.44            0.00\n",
       "1     -5251.44         2625.72\n",
       "2     -5251.44         3938.58\n",
       "3     -5251.44        -3282.15\n",
       "4     -5251.44        -4266.80"
      ],
      "text/html": "<div>\n<style scoped>\n    .dataframe tbody tr th:only-of-type {\n        vertical-align: middle;\n    }\n\n    .dataframe tbody tr th {\n        vertical-align: top;\n    }\n\n    .dataframe thead th {\n        text-align: right;\n    }\n</style>\n<table border=\"1\" class=\"dataframe\">\n  <thead>\n    <tr style=\"text-align: right;\">\n      <th></th>\n      <th>real_values</th>\n      <th>predict_values</th>\n    </tr>\n  </thead>\n  <tbody>\n    <tr>\n      <th>0</th>\n      <td>-5251.44</td>\n      <td>0.00</td>\n    </tr>\n    <tr>\n      <th>1</th>\n      <td>-5251.44</td>\n      <td>2625.72</td>\n    </tr>\n    <tr>\n      <th>2</th>\n      <td>-5251.44</td>\n      <td>3938.58</td>\n    </tr>\n    <tr>\n      <th>3</th>\n      <td>-5251.44</td>\n      <td>-3282.15</td>\n    </tr>\n    <tr>\n      <th>4</th>\n      <td>-5251.44</td>\n      <td>-4266.80</td>\n    </tr>\n  </tbody>\n</table>\n</div>"
     },
     "metadata": {},
     "execution_count": 27
    }
   ],
   "source": [
    "data.head()"
   ]
  },
  {
   "cell_type": "code",
   "execution_count": 28,
   "metadata": {},
   "outputs": [
    {
     "output_type": "execute_result",
     "data": {
      "text/plain": [
       "(1172, 2)"
      ]
     },
     "metadata": {},
     "execution_count": 28
    }
   ],
   "source": [
    "data.shape"
   ]
  },
  {
   "cell_type": "code",
   "execution_count": 29,
   "metadata": {},
   "outputs": [],
   "source": [
    "data.dropna(inplace= True)"
   ]
  },
  {
   "cell_type": "code",
   "execution_count": 30,
   "metadata": {},
   "outputs": [],
   "source": [
    "data.drop_duplicates(inplace= True, subset = 'real_values')"
   ]
  },
  {
   "cell_type": "code",
   "execution_count": 31,
   "metadata": {},
   "outputs": [
    {
     "output_type": "execute_result",
     "data": {
      "text/plain": [
       "(644, 2)"
      ]
     },
     "metadata": {},
     "execution_count": 31
    }
   ],
   "source": [
    "data.shape"
   ]
  },
  {
   "cell_type": "code",
   "execution_count": 32,
   "metadata": {},
   "outputs": [
    {
     "output_type": "execute_result",
     "data": {
      "text/plain": [
       "    real_values  predict_values\n",
       "0      -5251.44            0.00\n",
       "40     -5250.61        -5251.44\n",
       "42     -5248.34        -5250.20\n",
       "44     -5244.61        -5252.21\n",
       "46     -5239.42        -5244.08"
      ],
      "text/html": "<div>\n<style scoped>\n    .dataframe tbody tr th:only-of-type {\n        vertical-align: middle;\n    }\n\n    .dataframe tbody tr th {\n        vertical-align: top;\n    }\n\n    .dataframe thead th {\n        text-align: right;\n    }\n</style>\n<table border=\"1\" class=\"dataframe\">\n  <thead>\n    <tr style=\"text-align: right;\">\n      <th></th>\n      <th>real_values</th>\n      <th>predict_values</th>\n    </tr>\n  </thead>\n  <tbody>\n    <tr>\n      <th>0</th>\n      <td>-5251.44</td>\n      <td>0.00</td>\n    </tr>\n    <tr>\n      <th>40</th>\n      <td>-5250.61</td>\n      <td>-5251.44</td>\n    </tr>\n    <tr>\n      <th>42</th>\n      <td>-5248.34</td>\n      <td>-5250.20</td>\n    </tr>\n    <tr>\n      <th>44</th>\n      <td>-5244.61</td>\n      <td>-5252.21</td>\n    </tr>\n    <tr>\n      <th>46</th>\n      <td>-5239.42</td>\n      <td>-5244.08</td>\n    </tr>\n  </tbody>\n</table>\n</div>"
     },
     "metadata": {},
     "execution_count": 32
    }
   ],
   "source": [
    "data.head()"
   ]
  },
  {
   "cell_type": "code",
   "execution_count": 33,
   "metadata": {},
   "outputs": [],
   "source": [
    "data.reset_index(inplace= True, drop= True)"
   ]
  },
  {
   "cell_type": "code",
   "execution_count": 34,
   "metadata": {},
   "outputs": [
    {
     "output_type": "execute_result",
     "data": {
      "text/plain": [
       "   real_values  predict_values\n",
       "0     -5251.44            0.00\n",
       "1     -5250.61        -5251.44\n",
       "2     -5248.34        -5250.20\n",
       "3     -5244.61        -5252.21\n",
       "4     -5239.42        -5244.08"
      ],
      "text/html": "<div>\n<style scoped>\n    .dataframe tbody tr th:only-of-type {\n        vertical-align: middle;\n    }\n\n    .dataframe tbody tr th {\n        vertical-align: top;\n    }\n\n    .dataframe thead th {\n        text-align: right;\n    }\n</style>\n<table border=\"1\" class=\"dataframe\">\n  <thead>\n    <tr style=\"text-align: right;\">\n      <th></th>\n      <th>real_values</th>\n      <th>predict_values</th>\n    </tr>\n  </thead>\n  <tbody>\n    <tr>\n      <th>0</th>\n      <td>-5251.44</td>\n      <td>0.00</td>\n    </tr>\n    <tr>\n      <th>1</th>\n      <td>-5250.61</td>\n      <td>-5251.44</td>\n    </tr>\n    <tr>\n      <th>2</th>\n      <td>-5248.34</td>\n      <td>-5250.20</td>\n    </tr>\n    <tr>\n      <th>3</th>\n      <td>-5244.61</td>\n      <td>-5252.21</td>\n    </tr>\n    <tr>\n      <th>4</th>\n      <td>-5239.42</td>\n      <td>-5244.08</td>\n    </tr>\n  </tbody>\n</table>\n</div>"
     },
     "metadata": {},
     "execution_count": 34
    }
   ],
   "source": [
    "data.head()"
   ]
  },
  {
   "cell_type": "code",
   "execution_count": 35,
   "metadata": {},
   "outputs": [],
   "source": [
    "data.drop(index= 0, inplace= True)"
   ]
  },
  {
   "cell_type": "code",
   "execution_count": 36,
   "metadata": {},
   "outputs": [
    {
     "output_type": "execute_result",
     "data": {
      "text/plain": [
       "   real_values  predict_values\n",
       "1     -5250.61        -5251.44\n",
       "2     -5248.34        -5250.20\n",
       "3     -5244.61        -5252.21\n",
       "4     -5239.42        -5244.08\n",
       "5     -5232.77        -5244.35"
      ],
      "text/html": "<div>\n<style scoped>\n    .dataframe tbody tr th:only-of-type {\n        vertical-align: middle;\n    }\n\n    .dataframe tbody tr th {\n        vertical-align: top;\n    }\n\n    .dataframe thead th {\n        text-align: right;\n    }\n</style>\n<table border=\"1\" class=\"dataframe\">\n  <thead>\n    <tr style=\"text-align: right;\">\n      <th></th>\n      <th>real_values</th>\n      <th>predict_values</th>\n    </tr>\n  </thead>\n  <tbody>\n    <tr>\n      <th>1</th>\n      <td>-5250.61</td>\n      <td>-5251.44</td>\n    </tr>\n    <tr>\n      <th>2</th>\n      <td>-5248.34</td>\n      <td>-5250.20</td>\n    </tr>\n    <tr>\n      <th>3</th>\n      <td>-5244.61</td>\n      <td>-5252.21</td>\n    </tr>\n    <tr>\n      <th>4</th>\n      <td>-5239.42</td>\n      <td>-5244.08</td>\n    </tr>\n    <tr>\n      <th>5</th>\n      <td>-5232.77</td>\n      <td>-5244.35</td>\n    </tr>\n  </tbody>\n</table>\n</div>"
     },
     "metadata": {},
     "execution_count": 36
    }
   ],
   "source": [
    "data.head()"
   ]
  },
  {
   "cell_type": "code",
   "execution_count": 37,
   "metadata": {},
   "outputs": [],
   "source": [
    "from sklearn.metrics import mean_absolute_error"
   ]
  },
  {
   "cell_type": "code",
   "execution_count": 38,
   "metadata": {},
   "outputs": [
    {
     "output_type": "execute_result",
     "data": {
      "text/plain": [
       "24.13449455676521"
      ]
     },
     "metadata": {},
     "execution_count": 38
    }
   ],
   "source": [
    "mean_absolute_error(data['real_values'], data['predict_values'])"
   ]
  }
 ]
}